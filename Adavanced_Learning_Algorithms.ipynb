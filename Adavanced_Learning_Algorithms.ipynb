{
 "cells": [
  {
   "cell_type": "markdown",
   "metadata": {},
   "source": [
    "### Week1 Building a nurual netwrok with Tensorflow "
   ]
  },
  {
   "cell_type": "code",
   "execution_count": null,
   "metadata": {},
   "outputs": [],
   "source": [
    "import numpy as np \n",
    "import tensorflow as tf \n",
    "from tensorflow.keras.models import Sequential \n",
    "from tensorflow.keras.layers import Dense \n"
   ]
  },
  {
   "cell_type": "code",
   "execution_count": 1,
   "metadata": {},
   "outputs": [],
   "source": [
    "x = np.array([[200.0, 17.0]])\n",
    "layer_1 = Dense(units=3, activation=\"sigmoid\")\n",
    "a1 = layer_1(x)\n",
    "\n",
    "layer_2 = Dense(units=1, activation=\"sigmoid\")\n",
    "a2 = layer_2(a1)\n",
    "\n",
    "model = Sequential([layer_1, layer_2]) "
   ]
  },
  {
   "cell_type": "code",
   "execution_count": null,
   "metadata": {},
   "outputs": [],
   "source": [
    "model.compile(...) # defines a loss function, an optimizer, and metrics\n",
    "model.fit(...) # runs gradient descent algorithm and fits the weights of the model\n",
    "\n",
    "model.predict(...) # carry forward the prediction \n",
    "\n",
    "model.compile(\n",
    "    loss = tf.keras.losses.BinaryCrossentropy(),\n",
    "    optimizer = tf.keras.optimizers.Adam(learning_rate=0.01),\n",
    ")\n",
    "\n",
    "model.fit(\n",
    "    Xt,Yt,            \n",
    "    epochs=10,\n",
    ")\n"
   ]
  },
  {
   "cell_type": "markdown",
   "metadata": {},
   "source": [
    "## Important steps\n",
    "1. create Normalizaiton Layer, which is not a layer in the model\n",
    "2. 'adapt' the data, which learns the mean and variance of the data set and saves the values internaly.\n",
    "3. using np.tile to repeat an existing array a specified number of times, for data augmentation.\n",
    "\n",
    "### weightes and biases\n",
    "in 'model.compile' and 'model.fit'\n",
    "### epoches and batches\n",
    "in 'model.fit'\n",
    "### updated weights\n",
    "after fitting, the weigths have been updated\n",
    "\n",
    "```\n",
    "W1, b1 = model.get_layer(\"layer1\").get_weights()\n",
    "W2, b2 = model.get_layer(\"layer2\").get_weights()\n",
    "print(\"W1:\\n\", W1, \"\\nb1:\", b1)\n",
    "print(\"W2:\\n\", W2, \"\\nb2:\", b2)\n",
    "```\n",
    "\n",
    "```\n",
    "model.get_layer(\"layer1\").set_weights([W1,b1])\n",
    "model.get_layer(\"layer2\").set_weights([W2,b2])\n",
    "```\n",
    "### predictions\n"
   ]
  },
  {
   "cell_type": "code",
   "execution_count": null,
   "metadata": {},
   "outputs": [],
   "source": [
    "def dense(a_in, W, b):\n",
    "    units = W.shape[1]\n",
    "    a_out = np.zeros(units) # a_out is a 1D array [0,0,0]\n",
    "    for j in range(units): #0,1,2\n",
    "        w = W[:,j] # the columns of w_1, w_2,w_3\n",
    "        #Capital W refers to a matrix, lowercase w refers to a vector\n",
    "        z = np.dot(w,a_in) + b[j]\n",
    "        a_out[j] = g(z) # g(z) is defined before\n",
    "    return a_out\n",
    "# forward propagation\n",
    "\n",
    "def sequential(x):\n",
    "    a1 = dense(x, W1, b1)\n",
    "    a2 = dense(a1, W2, b2)\n",
    "    a3 = dense(a2, W2, b2)\n",
    "    a4 = dense(a3, W3, b3)\n",
    "    f_x = a4\n",
    "    return f_x"
   ]
  },
  {
   "cell_type": "markdown",
   "metadata": {},
   "source": [
    "Fully Connected Layer\n",
    "$$\n",
    "z = W^T a_{in}+b\n",
    "$$\n",
    "\n",
    "$$\n",
    "a_{out} = g(z)\n",
    "$$\n",
    "\n",
    "$$\n",
    "a_{out} = g(\\sum_i W_{ij}a_{in_i}+b_j)\n",
    "$$"
   ]
  },
  {
   "cell_type": "code",
   "execution_count": null,
   "metadata": {},
   "outputs": [],
   "source": [
    "\n",
    "def relu(a):\n",
    "    return np.maximum(0, a)\n",
    "\n",
    "def softmax(a):\n",
    "    exp_a = np.exp(a)\n",
    "    sum_exp_a = np.sum(exp_a, axis=1, keepdims=True)\n",
    "    return exp_a / sum_exp_a"
   ]
  }
 ],
 "metadata": {
  "kernelspec": {
   "display_name": "X_env",
   "language": "python",
   "name": "python3"
  },
  "language_info": {
   "codemirror_mode": {
    "name": "ipython",
    "version": 3
   },
   "file_extension": ".py",
   "mimetype": "text/x-python",
   "name": "python",
   "nbconvert_exporter": "python",
   "pygments_lexer": "ipython3",
   "version": "3.10.16"
  }
 },
 "nbformat": 4,
 "nbformat_minor": 2
}
